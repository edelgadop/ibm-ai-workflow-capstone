{
 "cells": [
  {
   "cell_type": "code",
   "execution_count": 1,
   "id": "221ea521",
   "metadata": {},
   "outputs": [],
   "source": [
    "import os\n",
    "import pandas as pd\n",
    "import matplotlib.pyplot as plt\n",
    "import seaborn as sns\n",
    "from scipy.stats import zscore\n",
    "import numpy as np\n",
    "\n",
    "DATA_DIR = \"../capstone/data/input\"\n",
    "IMAGE_DIR = \"../images\"\n",
    "FILENAME = \"cs-input.h5\"\n",
    "\n",
    "plt.style.use('seaborn')"
   ]
  },
  {
   "cell_type": "code",
   "execution_count": 2,
   "id": "264f10ca",
   "metadata": {},
   "outputs": [
    {
     "data": {
      "text/plain": [
       "['cs-input.h5', 'preprocessed-dataset.h5', 'preprocessed-dataset.pkl']"
      ]
     },
     "execution_count": 2,
     "metadata": {},
     "output_type": "execute_result"
    }
   ],
   "source": [
    "os.listdir(DATA_DIR)"
   ]
  },
  {
   "cell_type": "code",
   "execution_count": 3,
   "id": "4aff3ca4",
   "metadata": {},
   "outputs": [],
   "source": [
    "df = pd.read_hdf(DATA_DIR + \"/\" + FILENAME)"
   ]
  },
  {
   "cell_type": "code",
   "execution_count": 4,
   "id": "0d1b637d",
   "metadata": {},
   "outputs": [
    {
     "data": {
      "text/html": [
       "<div>\n",
       "<style scoped>\n",
       "    .dataframe tbody tr th:only-of-type {\n",
       "        vertical-align: middle;\n",
       "    }\n",
       "\n",
       "    .dataframe tbody tr th {\n",
       "        vertical-align: top;\n",
       "    }\n",
       "\n",
       "    .dataframe thead th {\n",
       "        text-align: right;\n",
       "    }\n",
       "</style>\n",
       "<table border=\"1\" class=\"dataframe\">\n",
       "  <thead>\n",
       "    <tr style=\"text-align: right;\">\n",
       "      <th></th>\n",
       "      <th>country</th>\n",
       "      <th>customer_id</th>\n",
       "      <th>invoice</th>\n",
       "      <th>price</th>\n",
       "      <th>stream_id</th>\n",
       "      <th>times_viewed</th>\n",
       "      <th>year</th>\n",
       "      <th>month</th>\n",
       "      <th>day</th>\n",
       "    </tr>\n",
       "  </thead>\n",
       "  <tbody>\n",
       "    <tr>\n",
       "      <th>0</th>\n",
       "      <td>United Kingdom</td>\n",
       "      <td>13085.0</td>\n",
       "      <td>489434</td>\n",
       "      <td>6.95</td>\n",
       "      <td>85048</td>\n",
       "      <td>12</td>\n",
       "      <td>2017</td>\n",
       "      <td>11</td>\n",
       "      <td>28</td>\n",
       "    </tr>\n",
       "    <tr>\n",
       "      <th>1</th>\n",
       "      <td>United Kingdom</td>\n",
       "      <td>NaN</td>\n",
       "      <td>489597</td>\n",
       "      <td>8.65</td>\n",
       "      <td>22130</td>\n",
       "      <td>1</td>\n",
       "      <td>2017</td>\n",
       "      <td>11</td>\n",
       "      <td>28</td>\n",
       "    </tr>\n",
       "    <tr>\n",
       "      <th>2</th>\n",
       "      <td>United Kingdom</td>\n",
       "      <td>NaN</td>\n",
       "      <td>489597</td>\n",
       "      <td>1.70</td>\n",
       "      <td>22132</td>\n",
       "      <td>6</td>\n",
       "      <td>2017</td>\n",
       "      <td>11</td>\n",
       "      <td>28</td>\n",
       "    </tr>\n",
       "    <tr>\n",
       "      <th>3</th>\n",
       "      <td>United Kingdom</td>\n",
       "      <td>NaN</td>\n",
       "      <td>489597</td>\n",
       "      <td>1.70</td>\n",
       "      <td>22133</td>\n",
       "      <td>4</td>\n",
       "      <td>2017</td>\n",
       "      <td>11</td>\n",
       "      <td>28</td>\n",
       "    </tr>\n",
       "    <tr>\n",
       "      <th>4</th>\n",
       "      <td>United Kingdom</td>\n",
       "      <td>NaN</td>\n",
       "      <td>489597</td>\n",
       "      <td>0.87</td>\n",
       "      <td>22134</td>\n",
       "      <td>1</td>\n",
       "      <td>2017</td>\n",
       "      <td>11</td>\n",
       "      <td>28</td>\n",
       "    </tr>\n",
       "  </tbody>\n",
       "</table>\n",
       "</div>"
      ],
      "text/plain": [
       "          country  customer_id invoice  price stream_id  times_viewed  year  \\\n",
       "0  United Kingdom      13085.0  489434   6.95     85048            12  2017   \n",
       "1  United Kingdom          NaN  489597   8.65     22130             1  2017   \n",
       "2  United Kingdom          NaN  489597   1.70     22132             6  2017   \n",
       "3  United Kingdom          NaN  489597   1.70     22133             4  2017   \n",
       "4  United Kingdom          NaN  489597   0.87     22134             1  2017   \n",
       "\n",
       "   month  day  \n",
       "0     11   28  \n",
       "1     11   28  \n",
       "2     11   28  \n",
       "3     11   28  \n",
       "4     11   28  "
      ]
     },
     "execution_count": 4,
     "metadata": {},
     "output_type": "execute_result"
    }
   ],
   "source": [
    "df.head()"
   ]
  },
  {
   "cell_type": "code",
   "execution_count": 5,
   "id": "e7b2fc2a",
   "metadata": {},
   "outputs": [],
   "source": [
    "df[\"timestamp\"] = pd.to_datetime(df[[\"year\", \"month\", \"day\"]])\n",
    "df.set_index(\"timestamp\", inplace=True)"
   ]
  },
  {
   "cell_type": "code",
   "execution_count": 6,
   "id": "58c370e5",
   "metadata": {},
   "outputs": [
    {
     "data": {
      "text/html": [
       "<div>\n",
       "<style scoped>\n",
       "    .dataframe tbody tr th:only-of-type {\n",
       "        vertical-align: middle;\n",
       "    }\n",
       "\n",
       "    .dataframe tbody tr th {\n",
       "        vertical-align: top;\n",
       "    }\n",
       "\n",
       "    .dataframe thead th {\n",
       "        text-align: right;\n",
       "    }\n",
       "</style>\n",
       "<table border=\"1\" class=\"dataframe\">\n",
       "  <thead>\n",
       "    <tr style=\"text-align: right;\">\n",
       "      <th></th>\n",
       "      <th>country</th>\n",
       "      <th>customer_id</th>\n",
       "      <th>invoice</th>\n",
       "      <th>price</th>\n",
       "      <th>stream_id</th>\n",
       "      <th>times_viewed</th>\n",
       "      <th>year</th>\n",
       "      <th>month</th>\n",
       "      <th>day</th>\n",
       "    </tr>\n",
       "    <tr>\n",
       "      <th>timestamp</th>\n",
       "      <th></th>\n",
       "      <th></th>\n",
       "      <th></th>\n",
       "      <th></th>\n",
       "      <th></th>\n",
       "      <th></th>\n",
       "      <th></th>\n",
       "      <th></th>\n",
       "      <th></th>\n",
       "    </tr>\n",
       "  </thead>\n",
       "  <tbody>\n",
       "    <tr>\n",
       "      <th>2017-11-28</th>\n",
       "      <td>United Kingdom</td>\n",
       "      <td>13085.0</td>\n",
       "      <td>489434</td>\n",
       "      <td>6.95</td>\n",
       "      <td>85048</td>\n",
       "      <td>12</td>\n",
       "      <td>2017</td>\n",
       "      <td>11</td>\n",
       "      <td>28</td>\n",
       "    </tr>\n",
       "    <tr>\n",
       "      <th>2017-11-28</th>\n",
       "      <td>United Kingdom</td>\n",
       "      <td>NaN</td>\n",
       "      <td>489597</td>\n",
       "      <td>8.65</td>\n",
       "      <td>22130</td>\n",
       "      <td>1</td>\n",
       "      <td>2017</td>\n",
       "      <td>11</td>\n",
       "      <td>28</td>\n",
       "    </tr>\n",
       "    <tr>\n",
       "      <th>2017-11-28</th>\n",
       "      <td>United Kingdom</td>\n",
       "      <td>NaN</td>\n",
       "      <td>489597</td>\n",
       "      <td>1.70</td>\n",
       "      <td>22132</td>\n",
       "      <td>6</td>\n",
       "      <td>2017</td>\n",
       "      <td>11</td>\n",
       "      <td>28</td>\n",
       "    </tr>\n",
       "    <tr>\n",
       "      <th>2017-11-28</th>\n",
       "      <td>United Kingdom</td>\n",
       "      <td>NaN</td>\n",
       "      <td>489597</td>\n",
       "      <td>1.70</td>\n",
       "      <td>22133</td>\n",
       "      <td>4</td>\n",
       "      <td>2017</td>\n",
       "      <td>11</td>\n",
       "      <td>28</td>\n",
       "    </tr>\n",
       "    <tr>\n",
       "      <th>2017-11-28</th>\n",
       "      <td>United Kingdom</td>\n",
       "      <td>NaN</td>\n",
       "      <td>489597</td>\n",
       "      <td>0.87</td>\n",
       "      <td>22134</td>\n",
       "      <td>1</td>\n",
       "      <td>2017</td>\n",
       "      <td>11</td>\n",
       "      <td>28</td>\n",
       "    </tr>\n",
       "  </tbody>\n",
       "</table>\n",
       "</div>"
      ],
      "text/plain": [
       "                   country  customer_id invoice  price stream_id  \\\n",
       "timestamp                                                          \n",
       "2017-11-28  United Kingdom      13085.0  489434   6.95     85048   \n",
       "2017-11-28  United Kingdom          NaN  489597   8.65     22130   \n",
       "2017-11-28  United Kingdom          NaN  489597   1.70     22132   \n",
       "2017-11-28  United Kingdom          NaN  489597   1.70     22133   \n",
       "2017-11-28  United Kingdom          NaN  489597   0.87     22134   \n",
       "\n",
       "            times_viewed  year  month  day  \n",
       "timestamp                                   \n",
       "2017-11-28            12  2017     11   28  \n",
       "2017-11-28             1  2017     11   28  \n",
       "2017-11-28             6  2017     11   28  \n",
       "2017-11-28             4  2017     11   28  \n",
       "2017-11-28             1  2017     11   28  "
      ]
     },
     "execution_count": 6,
     "metadata": {},
     "output_type": "execute_result"
    }
   ],
   "source": [
    "df.head()"
   ]
  },
  {
   "cell_type": "code",
   "execution_count": 7,
   "id": "9b5d1961",
   "metadata": {},
   "outputs": [
    {
     "data": {
      "text/plain": [
       "Text(0, 0.5, \"cumulative evolution of 'price'\")"
      ]
     },
     "execution_count": 7,
     "metadata": {},
     "output_type": "execute_result"
    },
    {
     "data": {
      "image/png": "[encoded data removed]",
      "text/plain": [
       "<Figure size 576x396 with 1 Axes>"
      ]
     },
     "metadata": {},
     "output_type": "display_data"
    }
   ],
   "source": [
    "df.groupby(\"timestamp\").sum()[\"price\"].plot(marker=\".\", linestyle='None')\n",
    "plt.ylabel(\"cumulative evolution of 'price'\")"
   ]
  },
  {
   "cell_type": "code",
   "execution_count": 8,
   "id": "62e0e1bf",
   "metadata": {},
   "outputs": [
    {
     "data": {
      "text/plain": [
       "0"
      ]
     },
     "execution_count": 8,
     "metadata": {},
     "output_type": "execute_result"
    }
   ],
   "source": [
    "df[\"price\"].isnull().sum()"
   ]
  },
  {
   "cell_type": "code",
   "execution_count": 9,
   "id": "697ca862",
   "metadata": {},
   "outputs": [
    {
     "data": {
      "text/html": [
       "<div>\n",
       "<style scoped>\n",
       "    .dataframe tbody tr th:only-of-type {\n",
       "        vertical-align: middle;\n",
       "    }\n",
       "\n",
       "    .dataframe tbody tr th {\n",
       "        vertical-align: top;\n",
       "    }\n",
       "\n",
       "    .dataframe thead th {\n",
       "        text-align: right;\n",
       "    }\n",
       "</style>\n",
       "<table border=\"1\" class=\"dataframe\">\n",
       "  <thead>\n",
       "    <tr style=\"text-align: right;\">\n",
       "      <th></th>\n",
       "      <th>country</th>\n",
       "      <th>customer_id</th>\n",
       "      <th>invoice</th>\n",
       "      <th>price</th>\n",
       "      <th>stream_id</th>\n",
       "      <th>times_viewed</th>\n",
       "      <th>year</th>\n",
       "      <th>month</th>\n",
       "      <th>day</th>\n",
       "    </tr>\n",
       "    <tr>\n",
       "      <th>timestamp</th>\n",
       "      <th></th>\n",
       "      <th></th>\n",
       "      <th></th>\n",
       "      <th></th>\n",
       "      <th></th>\n",
       "      <th></th>\n",
       "      <th></th>\n",
       "      <th></th>\n",
       "      <th></th>\n",
       "    </tr>\n",
       "  </thead>\n",
       "  <tbody>\n",
       "    <tr>\n",
       "      <th>2018-04-26</th>\n",
       "      <td>United Kingdom</td>\n",
       "      <td>NaN</td>\n",
       "      <td>A506401</td>\n",
       "      <td>-53594.36</td>\n",
       "      <td>B</td>\n",
       "      <td>1</td>\n",
       "      <td>2018</td>\n",
       "      <td>4</td>\n",
       "      <td>26</td>\n",
       "    </tr>\n",
       "    <tr>\n",
       "      <th>2018-07-16</th>\n",
       "      <td>United Kingdom</td>\n",
       "      <td>NaN</td>\n",
       "      <td>A516228</td>\n",
       "      <td>-44031.79</td>\n",
       "      <td>B</td>\n",
       "      <td>1</td>\n",
       "      <td>2018</td>\n",
       "      <td>7</td>\n",
       "      <td>16</td>\n",
       "    </tr>\n",
       "    <tr>\n",
       "      <th>2018-10-17</th>\n",
       "      <td>United Kingdom</td>\n",
       "      <td>NaN</td>\n",
       "      <td>A528059</td>\n",
       "      <td>-38925.87</td>\n",
       "      <td>B</td>\n",
       "      <td>1</td>\n",
       "      <td>2018</td>\n",
       "      <td>10</td>\n",
       "      <td>17</td>\n",
       "    </tr>\n",
       "  </tbody>\n",
       "</table>\n",
       "</div>"
      ],
      "text/plain": [
       "                   country  customer_id  invoice     price stream_id  \\\n",
       "timestamp                                                              \n",
       "2018-04-26  United Kingdom          NaN  A506401 -53594.36         B   \n",
       "2018-07-16  United Kingdom          NaN  A516228 -44031.79         B   \n",
       "2018-10-17  United Kingdom          NaN  A528059 -38925.87         B   \n",
       "\n",
       "            times_viewed  year  month  day  \n",
       "timestamp                                   \n",
       "2018-04-26             1  2018      4   26  \n",
       "2018-07-16             1  2018      7   16  \n",
       "2018-10-17             1  2018     10   17  "
      ]
     },
     "execution_count": 9,
     "metadata": {},
     "output_type": "execute_result"
    }
   ],
   "source": [
    "df.loc[df[\"price\"]<0, :]"
   ]
  },
  {
   "cell_type": "code",
   "execution_count": 10,
   "id": "ce2cf001",
   "metadata": {},
   "outputs": [],
   "source": [
    "df[\"zscore_price\"] = zscore(df[\"price\"])"
   ]
  },
  {
   "cell_type": "code",
   "execution_count": 11,
   "id": "66ee9948",
   "metadata": {},
   "outputs": [],
   "source": [
    "price_no_outliers = df.loc[np.abs(df[\"zscore_price\"]) <= 2, \"price\"]"
   ]
  },
  {
   "cell_type": "code",
   "execution_count": 12,
   "id": "c1facb7a",
   "metadata": {},
   "outputs": [
    {
     "data": {
      "image/png": "[encoded data removed]",
      "text/plain": [
       "<Figure size 576x396 with 1 Axes>"
      ]
     },
     "metadata": {},
     "output_type": "display_data"
    }
   ],
   "source": [
    "ts_agg = price_no_outliers.groupby(\"timestamp\").sum()\n",
    "ts_agg.plot(marker=\".\", linestyle=\"None\", label=\"Training data\")\n",
    "ts_agg.rolling(window=7).mean().plot(label=\"1-week moving average\")\n",
    "plt.legend()\n",
    "plt.savefig(IMAGE_DIR + \"/moving-average-1-week.png\")"
   ]
  },
  {
   "cell_type": "code",
   "execution_count": 13,
   "id": "d0d1edc1",
   "metadata": {},
   "outputs": [
    {
     "data": {
      "text/plain": [
       "country              0\n",
       "customer_id     189762\n",
       "invoice              0\n",
       "price                0\n",
       "stream_id            0\n",
       "times_viewed         0\n",
       "year                 0\n",
       "month                0\n",
       "day                  0\n",
       "zscore_price         0\n",
       "dtype: int64"
      ]
     },
     "execution_count": 13,
     "metadata": {},
     "output_type": "execute_result"
    }
   ],
   "source": [
    "df.isnull().sum()"
   ]
  },
  {
   "cell_type": "code",
   "execution_count": 14,
   "id": "e9065d25",
   "metadata": {},
   "outputs": [
    {
     "name": "stdout",
     "output_type": "stream",
     "text": [
      "Dropped column customer id\n"
     ]
    }
   ],
   "source": [
    "df.drop(labels=['customer_id'], axis=1, inplace=True)\n",
    "print(\"Dropped column customer id\")"
   ]
  },
  {
   "cell_type": "code",
   "execution_count": 15,
   "id": "52433342",
   "metadata": {},
   "outputs": [
    {
     "data": {
      "text/html": [
       "<div>\n",
       "<style scoped>\n",
       "    .dataframe tbody tr th:only-of-type {\n",
       "        vertical-align: middle;\n",
       "    }\n",
       "\n",
       "    .dataframe tbody tr th {\n",
       "        vertical-align: top;\n",
       "    }\n",
       "\n",
       "    .dataframe thead th {\n",
       "        text-align: right;\n",
       "    }\n",
       "</style>\n",
       "<table border=\"1\" class=\"dataframe\">\n",
       "  <thead>\n",
       "    <tr style=\"text-align: right;\">\n",
       "      <th></th>\n",
       "      <th>country</th>\n",
       "      <th>invoice</th>\n",
       "      <th>price</th>\n",
       "      <th>stream_id</th>\n",
       "      <th>times_viewed</th>\n",
       "      <th>year</th>\n",
       "      <th>month</th>\n",
       "      <th>day</th>\n",
       "      <th>zscore_price</th>\n",
       "    </tr>\n",
       "    <tr>\n",
       "      <th>timestamp</th>\n",
       "      <th></th>\n",
       "      <th></th>\n",
       "      <th></th>\n",
       "      <th></th>\n",
       "      <th></th>\n",
       "      <th></th>\n",
       "      <th></th>\n",
       "      <th></th>\n",
       "      <th></th>\n",
       "    </tr>\n",
       "  </thead>\n",
       "  <tbody>\n",
       "    <tr>\n",
       "      <th>2017-11-28</th>\n",
       "      <td>United Kingdom</td>\n",
       "      <td>489434</td>\n",
       "      <td>6.95</td>\n",
       "      <td>85048</td>\n",
       "      <td>12</td>\n",
       "      <td>2017</td>\n",
       "      <td>11</td>\n",
       "      <td>28</td>\n",
       "      <td>0.015900</td>\n",
       "    </tr>\n",
       "    <tr>\n",
       "      <th>2017-11-28</th>\n",
       "      <td>United Kingdom</td>\n",
       "      <td>489597</td>\n",
       "      <td>8.65</td>\n",
       "      <td>22130</td>\n",
       "      <td>1</td>\n",
       "      <td>2017</td>\n",
       "      <td>11</td>\n",
       "      <td>28</td>\n",
       "      <td>0.028487</td>\n",
       "    </tr>\n",
       "    <tr>\n",
       "      <th>2017-11-28</th>\n",
       "      <td>United Kingdom</td>\n",
       "      <td>489597</td>\n",
       "      <td>1.70</td>\n",
       "      <td>22132</td>\n",
       "      <td>6</td>\n",
       "      <td>2017</td>\n",
       "      <td>11</td>\n",
       "      <td>28</td>\n",
       "      <td>-0.022972</td>\n",
       "    </tr>\n",
       "    <tr>\n",
       "      <th>2017-11-28</th>\n",
       "      <td>United Kingdom</td>\n",
       "      <td>489597</td>\n",
       "      <td>1.70</td>\n",
       "      <td>22133</td>\n",
       "      <td>4</td>\n",
       "      <td>2017</td>\n",
       "      <td>11</td>\n",
       "      <td>28</td>\n",
       "      <td>-0.022972</td>\n",
       "    </tr>\n",
       "    <tr>\n",
       "      <th>2017-11-28</th>\n",
       "      <td>United Kingdom</td>\n",
       "      <td>489597</td>\n",
       "      <td>0.87</td>\n",
       "      <td>22134</td>\n",
       "      <td>1</td>\n",
       "      <td>2017</td>\n",
       "      <td>11</td>\n",
       "      <td>28</td>\n",
       "      <td>-0.029118</td>\n",
       "    </tr>\n",
       "  </tbody>\n",
       "</table>\n",
       "</div>"
      ],
      "text/plain": [
       "                   country invoice  price stream_id  times_viewed  year  \\\n",
       "timestamp                                                                 \n",
       "2017-11-28  United Kingdom  489434   6.95     85048            12  2017   \n",
       "2017-11-28  United Kingdom  489597   8.65     22130             1  2017   \n",
       "2017-11-28  United Kingdom  489597   1.70     22132             6  2017   \n",
       "2017-11-28  United Kingdom  489597   1.70     22133             4  2017   \n",
       "2017-11-28  United Kingdom  489597   0.87     22134             1  2017   \n",
       "\n",
       "            month  day  zscore_price  \n",
       "timestamp                             \n",
       "2017-11-28     11   28      0.015900  \n",
       "2017-11-28     11   28      0.028487  \n",
       "2017-11-28     11   28     -0.022972  \n",
       "2017-11-28     11   28     -0.022972  \n",
       "2017-11-28     11   28     -0.029118  "
      ]
     },
     "execution_count": 15,
     "metadata": {},
     "output_type": "execute_result"
    }
   ],
   "source": [
    "df.head()"
   ]
  },
  {
   "cell_type": "code",
   "execution_count": 16,
   "id": "f0e8b188",
   "metadata": {},
   "outputs": [
    {
     "data": {
      "image/png": "[encoded data removed]",
      "text/plain": [
       "<Figure size 576x396 with 1 Axes>"
      ]
     },
     "metadata": {},
     "output_type": "display_data"
    }
   ],
   "source": [
    "df.groupby(by=[\"country\"]).sum()['price'].sort_values(ascending=False)[0:10].plot(kind='bar')\n",
    "plt.ylabel(\"Revenue\")\n",
    "plt.savefig(IMAGE_DIR + \"/total-revenue-by-country.png\")"
   ]
  },
  {
   "cell_type": "code",
   "execution_count": 17,
   "id": "01fe7f97",
   "metadata": {},
   "outputs": [
    {
     "data": {
      "image/png": "[encoded data removed]",
      "text/plain": [
       "<Figure size 576x396 with 1 Axes>"
      ]
     },
     "metadata": {},
     "output_type": "display_data"
    }
   ],
   "source": [
    "df.groupby(by=[\"year\"]).sum()['price'].plot(kind='bar')\n",
    "plt.ylabel(\"Revenue\")\n",
    "plt.savefig(IMAGE_DIR + \"/total-revenue-by-year.png\")"
   ]
  },
  {
   "cell_type": "code",
   "execution_count": 18,
   "id": "9cee6740",
   "metadata": {},
   "outputs": [
    {
     "data": {
      "image/png": "[encoded data removed]",
      "text/plain": [
       "<Figure size 576x396 with 1 Axes>"
      ]
     },
     "metadata": {},
     "output_type": "display_data"
    }
   ],
   "source": [
    "sns.boxplot(data=df[['times_viewed', 'price']])\n",
    "plt.savefig(IMAGE_DIR + \"/outliers-price-vs-times-viewed.png\")"
   ]
  },
  {
   "cell_type": "code",
   "execution_count": 19,
   "id": "0673631a",
   "metadata": {},
   "outputs": [
    {
     "data": {
      "text/plain": [
       "country\n",
       "United Kingdom    5348\n",
       "Germany              8\n",
       "EIRE                 4\n",
       "Australia            1\n",
       "Belgium              1\n",
       "Netherlands          1\n",
       "Spain                1\n",
       "Switzerland          1\n",
       "Name: invoice, dtype: int64"
      ]
     },
     "execution_count": 19,
     "metadata": {},
     "output_type": "execute_result"
    }
   ],
   "source": [
    "df.loc[df['price'] == 0].groupby(\"country\").count()['invoice'].sort_values(ascending=False)"
   ]
  },
  {
   "cell_type": "code",
   "execution_count": 20,
   "id": "dc0eb4d4",
   "metadata": {},
   "outputs": [
    {
     "data": {
      "text/plain": [
       "country\n",
       "United Kingdom    3\n",
       "Name: invoice, dtype: int64"
      ]
     },
     "execution_count": 20,
     "metadata": {},
     "output_type": "execute_result"
    }
   ],
   "source": [
    "df.loc[df['price'] < 0].groupby(\"country\").count()['invoice'].sort_values(ascending=False)"
   ]
  },
  {
   "cell_type": "code",
   "execution_count": 21,
   "id": "7d4f7fb5",
   "metadata": {},
   "outputs": [
    {
     "name": "stdout",
     "output_type": "stream",
     "text": [
      "Discard records where price is negative\n"
     ]
    }
   ],
   "source": [
    "df = df[df['price'] >= 0]\n",
    "print(\"Discard records where price is negative\")"
   ]
  },
  {
   "cell_type": "code",
   "execution_count": 22,
   "id": "868f76d6",
   "metadata": {},
   "outputs": [
    {
     "data": {
      "text/plain": [
       "<AxesSubplot:xlabel='price', ylabel='Density'>"
      ]
     },
     "execution_count": 22,
     "metadata": {},
     "output_type": "execute_result"
    },
    {
     "data": {
      "image/png": "[encoded data removed]",
      "text/plain": [
       "<Figure size 576x396 with 1 Axes>"
      ]
     },
     "metadata": {},
     "output_type": "display_data"
    }
   ],
   "source": [
    "sns.kdeplot(x=df['price'])"
   ]
  },
  {
   "cell_type": "code",
   "execution_count": 23,
   "id": "486756fa",
   "metadata": {},
   "outputs": [
    {
     "data": {
      "text/plain": [
       "<AxesSubplot:xlabel='price', ylabel='Density'>"
      ]
     },
     "execution_count": 23,
     "metadata": {},
     "output_type": "execute_result"
    },
    {
     "data": {
      "image/png": "[encoded data removed]",
      "text/plain": [
       "<Figure size 576x396 with 1 Axes>"
      ]
     },
     "metadata": {},
     "output_type": "display_data"
    }
   ],
   "source": [
    "sns.kdeplot(x=df[df['zscore_price']<1.5]['price'])"
   ]
  },
  {
   "cell_type": "code",
   "execution_count": 24,
   "id": "476831a7",
   "metadata": {},
   "outputs": [
    {
     "name": "stdout",
     "output_type": "stream",
     "text": [
      "\n",
      "- Lowest value greater than 0: 0.001\n",
      "- Lowest value greater than 0.001: 0.01\n",
      "- Lowest value greater than 0.01: 0.03\n",
      "\n"
     ]
    }
   ],
   "source": [
    "n1 = df[df['price']>0].min()['price']\n",
    "n2 = df[df['price']>n1].min()['price']\n",
    "n3 = df[df['price']>n2].min()['price']\n",
    "print(\"\"\"\n",
    "- Lowest value greater than 0: {}\n",
    "- Lowest value greater than {}: {}\n",
    "- Lowest value greater than {}: {}\n",
    "\"\"\".format(n1, n1, n2, n2, n3))"
   ]
  },
  {
   "cell_type": "code",
   "execution_count": 25,
   "id": "65df6399",
   "metadata": {},
   "outputs": [],
   "source": [
    "df['price_cut'] = pd.cut(df['price'], [0, 0.1, 1, 5, 10, 100, 1000])"
   ]
  },
  {
   "cell_type": "code",
   "execution_count": 26,
   "id": "589deb13",
   "metadata": {},
   "outputs": [
    {
     "data": {
      "image/png": "[encoded data removed]",
      "text/plain": [
       "<Figure size 576x396 with 1 Axes>"
      ]
     },
     "metadata": {},
     "output_type": "display_data"
    }
   ],
   "source": [
    "sns.countplot(x='price_cut', data=df)\n",
    "plt.savefig(IMAGE_DIR + \"/most-frequent-prices-distr.png\")"
   ]
  },
  {
   "cell_type": "code",
   "execution_count": 27,
   "id": "7721bd8a",
   "metadata": {},
   "outputs": [
    {
     "data": {
      "image/png": "[encoded data removed]",
      "text/plain": [
       "<Figure size 576x396 with 1 Axes>"
      ]
     },
     "metadata": {},
     "output_type": "display_data"
    }
   ],
   "source": [
    "sns.countplot(x='price_cut', data=df.loc[df['country'] == \"United Kingdom\"])\n",
    "plt.savefig(IMAGE_DIR + \"/most-frequent-prices-distr-uk-only.png\")"
   ]
  },
  {
   "cell_type": "code",
   "execution_count": 28,
   "id": "355a09c3",
   "metadata": {},
   "outputs": [
    {
     "data": {
      "image/png": "[encoded data removed]",
      "text/plain": [
       "<Figure size 576x396 with 1 Axes>"
      ]
     },
     "metadata": {},
     "output_type": "display_data"
    }
   ],
   "source": [
    "sns.countplot(x='price_cut', data=df.loc[df['country'] != \"United Kingdom\"])\n",
    "plt.savefig(IMAGE_DIR + \"/most-frequent-prices-distr-NOT-uk.png\")"
   ]
  },
  {
   "cell_type": "code",
   "execution_count": 29,
   "id": "fd3626df",
   "metadata": {},
   "outputs": [
    {
     "name": "stdout",
     "output_type": "stream",
     "text": [
      "'Price' comes from the same distribution family in UK and in the rest of the countries (scaled by a factor of 10)\n"
     ]
    }
   ],
   "source": [
    "print(\"'Price' comes from the same distribution family in UK and in the rest of the countries (scaled by a factor of 10)\")"
   ]
  },
  {
   "cell_type": "code",
   "execution_count": 30,
   "id": "1900fcd8",
   "metadata": {},
   "outputs": [
    {
     "data": {
      "image/png": "[encoded data removed]",
      "text/plain": [
       "<Figure size 576x396 with 1 Axes>"
      ]
     },
     "metadata": {},
     "output_type": "display_data"
    }
   ],
   "source": [
    "from scipy.stats import expon\n",
    "price_relevant = df[df[\"price\"]<40][\"price\"]\n",
    "loc, scale = expon.fit(price_relevant)\n",
    "sns.histplot(price_relevant, bins=30, stat=\"probability\")\n",
    "plt.plot(expon.pdf(np.linspace(0, 40), loc, scale), color=\"red\")\n",
    "plt.savefig(IMAGE_DIR + \"/expon-approx-distr-price.png\")"
   ]
  },
  {
   "cell_type": "code",
   "execution_count": 31,
   "id": "36d6180a",
   "metadata": {},
   "outputs": [
    {
     "name": "stdout",
     "output_type": "stream",
     "text": [
      "Most of the revenue comes from low priced subscriptions (less than 20 USD)\n"
     ]
    }
   ],
   "source": [
    "print(\"Most of the revenue comes from low priced subscriptions (less than 20 USD)\")"
   ]
  },
  {
   "cell_type": "markdown",
   "id": "b2c0a1df",
   "metadata": {},
   "source": [
    "Open questions to be addressed by the model in the next stage:\n",
    "- If revenue depends more on low priced subscriptions, perhaps L2 penalty or MSE are *NOT* desirable due to the squared term. Is Lasso better than Ridge? Does MAE measure better the error than MSE?\n",
    "- The price distribution seems to have a significant exponential contribution, which means that perhaps linear models are *NOT* desirable. Instead of a linear regression, could a cubic B-spline regression perform better? Are decision trees better than basis expansion regressions (all of them: linear, polynomial, penalized regressions, splines) ?\n",
    "- The dataset represents a time-series. Is it possible that specific models aimed at time-series, such as ARIMA or LSTM Neural Networks outperform regressions?"
   ]
  },
  {
   "cell_type": "code",
   "execution_count": 32,
   "id": "8e208905",
   "metadata": {},
   "outputs": [
    {
     "name": "stdout",
     "output_type": "stream",
     "text": [
      "Saved preprocessed dataframe to ../capstone/data/input\n"
     ]
    }
   ],
   "source": [
    "df.to_pickle(DATA_DIR + \"/preprocessed-dataset.pkl\")\n",
    "print(\"Saved preprocessed dataframe to \" + DATA_DIR)"
   ]
  },
  {
   "cell_type": "code",
   "execution_count": null,
   "id": "518c9315",
   "metadata": {},
   "outputs": [],
   "source": []
  }
 ],
 "metadata": {
  "kernelspec": {
   "display_name": "Python 3",
   "language": "python",
   "name": "python3"
  },
  "language_info": {
   "codemirror_mode": {
    "name": "ipython",
    "version": 3
   },
   "file_extension": ".py",
   "mimetype": "text/x-python",
   "name": "python",
   "nbconvert_exporter": "python",
   "pygments_lexer": "ipython3",
   "version": "3.8.8"
  }
 },
 "nbformat": 4,
 "nbformat_minor": 5
}
